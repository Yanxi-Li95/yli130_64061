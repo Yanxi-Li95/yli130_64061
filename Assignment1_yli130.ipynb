{
 "cells": [
  {
   "cell_type": "markdown",
   "metadata": {
    "id": "eJw0acpgCh93"
   },
   "source": [
    "# Assignment 1: Neural Networks\n",
    "Yanxi Li, yli130@kent.edu"
   ]
  },
  {
   "cell_type": "markdown",
   "metadata": {
    "id": "EpuPvmykCdH8"
   },
   "source": [
    "### The IMDB dataset"
   ]
  },
  {
   "cell_type": "markdown",
   "metadata": {
    "id": "VcR9qMn9Esg6"
   },
   "source": [
    "**Loading the IMDB dataset**"
   ]
  },
  {
   "cell_type": "code",
   "execution_count": 1,
   "metadata": {
    "colab": {
     "base_uri": "https://localhost:8080/"
    },
    "executionInfo": {
     "elapsed": 9615,
     "status": "ok",
     "timestamp": 1695221166000,
     "user": {
      "displayName": "Yanxi Li",
      "userId": "03513793660563860424"
     },
     "user_tz": 240
    },
    "id": "i2abpI3KEUdw",
    "outputId": "4e56d0a7-67cc-4529-9e78-ad56803321f5"
   },
   "outputs": [],
   "source": [
    "from tensorflow.keras.datasets import imdb\n",
    "(train_data, train_labels), (test_data, test_labels) = imdb.load_data(\n",
    "    num_words=10000)"
   ]
  },
  {
   "cell_type": "code",
   "execution_count": 2,
   "metadata": {},
   "outputs": [],
   "source": [
    "import matplotlib.pyplot as plt # for figure plot"
   ]
  },
  {
   "cell_type": "code",
   "execution_count": 3,
   "metadata": {
    "colab": {
     "base_uri": "https://localhost:8080/"
    },
    "executionInfo": {
     "elapsed": 303,
     "status": "ok",
     "timestamp": 1695221170498,
     "user": {
      "displayName": "Yanxi Li",
      "userId": "03513793660563860424"
     },
     "user_tz": 240
    },
    "id": "q-QT1IIuIr2s",
    "outputId": "f6593648-ab1e-4629-9aaf-5e51cfd72feb"
   },
   "outputs": [
    {
     "data": {
      "text/plain": [
       "25000"
      ]
     },
     "execution_count": 3,
     "metadata": {},
     "output_type": "execute_result"
    }
   ],
   "source": [
    "len(train_data)  # comments in training data set"
   ]
  },
  {
   "cell_type": "code",
   "execution_count": 4,
   "metadata": {
    "colab": {
     "base_uri": "https://localhost:8080/"
    },
    "executionInfo": {
     "elapsed": 440,
     "status": "ok",
     "timestamp": 1695221172432,
     "user": {
      "displayName": "Yanxi Li",
      "userId": "03513793660563860424"
     },
     "user_tz": 240
    },
    "id": "KD7nWhciEocg",
    "outputId": "5fc9d7c0-c0c1-4216-abd2-b072a3c72f45"
   },
   "outputs": [
    {
     "data": {
      "text/plain": [
       "189"
      ]
     },
     "execution_count": 4,
     "metadata": {},
     "output_type": "execute_result"
    }
   ],
   "source": [
    "len(train_data[1]) # check the length of first comment in training data"
   ]
  },
  {
   "cell_type": "code",
   "execution_count": 5,
   "metadata": {
    "colab": {
     "base_uri": "https://localhost:8080/"
    },
    "executionInfo": {
     "elapsed": 3,
     "status": "ok",
     "timestamp": 1695221173361,
     "user": {
      "displayName": "Yanxi Li",
      "userId": "03513793660563860424"
     },
     "user_tz": 240
    },
    "id": "sjdTIopvGpAN",
    "outputId": "a8af151c-db6d-4635-eda2-369b4a68c163"
   },
   "outputs": [
    {
     "data": {
      "text/plain": [
       "2494"
      ]
     },
     "execution_count": 5,
     "metadata": {},
     "output_type": "execute_result"
    }
   ],
   "source": [
    "max_len = max([len(i) for i in train_data]) #check max length in each list in the training data\n",
    "max_len"
   ]
  },
  {
   "cell_type": "code",
   "execution_count": 6,
   "metadata": {
    "colab": {
     "base_uri": "https://localhost:8080/"
    },
    "executionInfo": {
     "elapsed": 2,
     "status": "ok",
     "timestamp": 1695221174715,
     "user": {
      "displayName": "Yanxi Li",
      "userId": "03513793660563860424"
     },
     "user_tz": 240
    },
    "id": "2UeVswjtHOXG",
    "outputId": "3357dca4-2876-40bb-de44-a7d6a910d107"
   },
   "outputs": [
    {
     "data": {
      "text/plain": [
       "9999"
      ]
     },
     "execution_count": 6,
     "metadata": {},
     "output_type": "execute_result"
    }
   ],
   "source": [
    "max([max(sequence) for sequence in train_data])  # check the maxmium number in the list"
   ]
  },
  {
   "cell_type": "markdown",
   "metadata": {
    "id": "P8-NdOEjIOjm"
   },
   "source": [
    "### Preparing the data"
   ]
  },
  {
   "cell_type": "markdown",
   "metadata": {
    "id": "dsnqRRJ5Ib4x"
   },
   "source": [
    "**Encoding the integer sequences via multi-hot encoding**"
   ]
  },
  {
   "cell_type": "code",
   "execution_count": 3,
   "metadata": {
    "executionInfo": {
     "elapsed": 2626,
     "status": "ok",
     "timestamp": 1695221180005,
     "user": {
      "displayName": "Yanxi Li",
      "userId": "03513793660563860424"
     },
     "user_tz": 240
    },
    "id": "LjVuyyOdIZ71"
   },
   "outputs": [],
   "source": [
    "import numpy as np\n",
    "def vectorize_sequences(sequences, dimension=10000):\n",
    "    results = np.zeros((len(sequences), dimension))\n",
    "    for i, sequence in enumerate(sequences):\n",
    "        for j in sequence:\n",
    "            results[i, j] = 1.\n",
    "    return results\n",
    "x_train = vectorize_sequences(train_data)\n",
    "x_test = vectorize_sequences(test_data)"
   ]
  },
  {
   "cell_type": "code",
   "execution_count": 8,
   "metadata": {
    "colab": {
     "base_uri": "https://localhost:8080/"
    },
    "executionInfo": {
     "elapsed": 476,
     "status": "ok",
     "timestamp": 1695221181685,
     "user": {
      "displayName": "Yanxi Li",
      "userId": "03513793660563860424"
     },
     "user_tz": 240
    },
    "id": "vpnDK4FQIgD9",
    "outputId": "0e399aff-9add-4560-948f-1413e0f0e546"
   },
   "outputs": [
    {
     "data": {
      "text/plain": [
       "array([0., 1., 1., ..., 0., 0., 0.])"
      ]
     },
     "execution_count": 8,
     "metadata": {},
     "output_type": "execute_result"
    }
   ],
   "source": [
    "x_train[1] # result for the multi-hot encoding for index 1"
   ]
  },
  {
   "cell_type": "code",
   "execution_count": 9,
   "metadata": {
    "colab": {
     "base_uri": "https://localhost:8080/"
    },
    "executionInfo": {
     "elapsed": 3,
     "status": "ok",
     "timestamp": 1695221757100,
     "user": {
      "displayName": "Yanxi Li",
      "userId": "03513793660563860424"
     },
     "user_tz": 240
    },
    "id": "bLEs-LUOEgvq",
    "outputId": "404b9945-9c04-4f7d-8e5f-482b6b2b1d80"
   },
   "outputs": [
    {
     "data": {
      "text/plain": [
       "((25000, 10000), (25000, 10000))"
      ]
     },
     "execution_count": 9,
     "metadata": {},
     "output_type": "execute_result"
    }
   ],
   "source": [
    "x_train.shape, x_test.shape  # show both train_test data set shape"
   ]
  },
  {
   "cell_type": "code",
   "execution_count": 10,
   "metadata": {
    "colab": {
     "base_uri": "https://localhost:8080/"
    },
    "executionInfo": {
     "elapsed": 264,
     "status": "ok",
     "timestamp": 1695221292553,
     "user": {
      "displayName": "Yanxi Li",
      "userId": "03513793660563860424"
     },
     "user_tz": 240
    },
    "id": "qz75vzWiIjO8",
    "outputId": "8c2bc28c-31e7-491f-c77b-c3f763dc71e4"
   },
   "outputs": [
    {
     "data": {
      "text/plain": [
       "10000"
      ]
     },
     "execution_count": 10,
     "metadata": {},
     "output_type": "execute_result"
    }
   ],
   "source": [
    "len(x_train[0])  # check the length for the first sample in training data set"
   ]
  },
  {
   "cell_type": "code",
   "execution_count": 4,
   "metadata": {
    "executionInfo": {
     "elapsed": 257,
     "status": "ok",
     "timestamp": 1695221844162,
     "user": {
      "displayName": "Yanxi Li",
      "userId": "03513793660563860424"
     },
     "user_tz": 240
    },
    "id": "UVYLChWUIojS"
   },
   "outputs": [],
   "source": [
    "y_train = np.asarray(train_labels).astype(\"float32\")  # convert both train & test lables into floats\n",
    "y_test = np.asarray(test_labels).astype(\"float32\")"
   ]
  },
  {
   "cell_type": "code",
   "execution_count": 12,
   "metadata": {
    "colab": {
     "base_uri": "https://localhost:8080/"
    },
    "executionInfo": {
     "elapsed": 2,
     "status": "ok",
     "timestamp": 1695221844479,
     "user": {
      "displayName": "Yanxi Li",
      "userId": "03513793660563860424"
     },
     "user_tz": 240
    },
    "id": "ZnPxBIDyJGsE",
    "outputId": "42575dab-b1fc-4731-81b8-26748ef72a98"
   },
   "outputs": [
    {
     "data": {
      "text/plain": [
       "(numpy.ndarray, numpy.ndarray)"
      ]
     },
     "execution_count": 12,
     "metadata": {},
     "output_type": "execute_result"
    }
   ],
   "source": [
    "type(x_train), type(y_train) #check data format in training data set"
   ]
  },
  {
   "cell_type": "code",
   "execution_count": 13,
   "metadata": {
    "colab": {
     "base_uri": "https://localhost:8080/"
    },
    "executionInfo": {
     "elapsed": 4,
     "status": "ok",
     "timestamp": 1695221889233,
     "user": {
      "displayName": "Yanxi Li",
      "userId": "03513793660563860424"
     },
     "user_tz": 240
    },
    "id": "UDxAXjhrGKFk",
    "outputId": "bf8c03a8-4a60-4166-887b-70d316dff6fc"
   },
   "outputs": [
    {
     "data": {
      "text/plain": [
       "((25000,), (25000,))"
      ]
     },
     "execution_count": 13,
     "metadata": {},
     "output_type": "execute_result"
    }
   ],
   "source": [
    "y_train.shape, y_test.shape  # check train and test label shape"
   ]
  },
  {
   "cell_type": "markdown",
   "metadata": {
    "id": "QfCsZ0pLKnwr"
   },
   "source": [
    "### Original model"
   ]
  },
  {
   "cell_type": "markdown",
   "metadata": {
    "id": "i0-T2aIKKtM9"
   },
   "source": [
    "#### Build the model"
   ]
  },
  {
   "cell_type": "code",
   "execution_count": 5,
   "metadata": {
    "colab": {
     "base_uri": "https://localhost:8080/"
    },
    "executionInfo": {
     "elapsed": 45661,
     "status": "ok",
     "timestamp": 1695062763157,
     "user": {
      "displayName": "Yanxi Li",
      "userId": "03513793660563860424"
     },
     "user_tz": 240
    },
    "id": "q4pq-wThKt4H",
    "outputId": "70a995e4-79fb-420e-ec49-c434205463e8"
   },
   "outputs": [
    {
     "name": "stdout",
     "output_type": "stream",
     "text": [
      "Epoch 1/20\n",
      "30/30 [==============================] - 2s 41ms/step - loss: 0.5497 - accuracy: 0.7778 - val_loss: 0.4259 - val_accuracy: 0.8672\n",
      "Epoch 2/20\n",
      "30/30 [==============================] - 1s 24ms/step - loss: 0.3458 - accuracy: 0.8992 - val_loss: 0.3439 - val_accuracy: 0.8668\n",
      "Epoch 3/20\n",
      "30/30 [==============================] - 1s 22ms/step - loss: 0.2524 - accuracy: 0.9224 - val_loss: 0.2913 - val_accuracy: 0.8895\n",
      "Epoch 4/20\n",
      "30/30 [==============================] - 1s 24ms/step - loss: 0.1966 - accuracy: 0.9373 - val_loss: 0.2869 - val_accuracy: 0.8855\n",
      "Epoch 5/20\n",
      "30/30 [==============================] - 1s 24ms/step - loss: 0.1635 - accuracy: 0.9473 - val_loss: 0.2824 - val_accuracy: 0.8880\n",
      "Epoch 6/20\n",
      "30/30 [==============================] - 1s 24ms/step - loss: 0.1344 - accuracy: 0.9595 - val_loss: 0.2829 - val_accuracy: 0.8862\n",
      "Epoch 7/20\n",
      "30/30 [==============================] - 1s 21ms/step - loss: 0.1156 - accuracy: 0.9658 - val_loss: 0.2958 - val_accuracy: 0.8837\n",
      "Epoch 8/20\n",
      "30/30 [==============================] - 1s 22ms/step - loss: 0.0944 - accuracy: 0.9740 - val_loss: 0.3133 - val_accuracy: 0.8818\n",
      "Epoch 9/20\n",
      "30/30 [==============================] - 1s 22ms/step - loss: 0.0794 - accuracy: 0.9789 - val_loss: 0.3397 - val_accuracy: 0.8780\n",
      "Epoch 10/20\n",
      "30/30 [==============================] - 1s 21ms/step - loss: 0.0659 - accuracy: 0.9829 - val_loss: 0.3759 - val_accuracy: 0.8761\n",
      "Epoch 11/20\n",
      "30/30 [==============================] - 1s 24ms/step - loss: 0.0564 - accuracy: 0.9859 - val_loss: 0.3818 - val_accuracy: 0.8774\n",
      "Epoch 12/20\n",
      "30/30 [==============================] - 1s 24ms/step - loss: 0.0459 - accuracy: 0.9901 - val_loss: 0.4082 - val_accuracy: 0.8747\n",
      "Epoch 13/20\n",
      "30/30 [==============================] - 1s 24ms/step - loss: 0.0375 - accuracy: 0.9919 - val_loss: 0.4532 - val_accuracy: 0.8691\n",
      "Epoch 14/20\n",
      "30/30 [==============================] - 1s 21ms/step - loss: 0.0313 - accuracy: 0.9941 - val_loss: 0.4610 - val_accuracy: 0.8729\n",
      "Epoch 15/20\n",
      "30/30 [==============================] - 1s 21ms/step - loss: 0.0251 - accuracy: 0.9956 - val_loss: 0.4997 - val_accuracy: 0.8704\n",
      "Epoch 16/20\n",
      "30/30 [==============================] - 1s 24ms/step - loss: 0.0199 - accuracy: 0.9971 - val_loss: 0.5239 - val_accuracy: 0.8699\n",
      "Epoch 17/20\n",
      "30/30 [==============================] - 1s 24ms/step - loss: 0.0149 - accuracy: 0.9985 - val_loss: 0.5921 - val_accuracy: 0.8632\n",
      "Epoch 18/20\n",
      "30/30 [==============================] - 1s 20ms/step - loss: 0.0148 - accuracy: 0.9974 - val_loss: 0.5924 - val_accuracy: 0.8678\n",
      "Epoch 19/20\n",
      "30/30 [==============================] - 1s 18ms/step - loss: 0.0103 - accuracy: 0.9989 - val_loss: 0.6206 - val_accuracy: 0.8677\n",
      "Epoch 20/20\n",
      "30/30 [==============================] - 1s 18ms/step - loss: 0.0066 - accuracy: 0.9997 - val_loss: 0.6738 - val_accuracy: 0.8637\n"
     ]
    }
   ],
   "source": [
    "# Model definition\n",
    "from tensorflow import keras\n",
    "from tensorflow.keras import layers\n",
    "\n",
    "model = keras.Sequential([\n",
    "    layers.Dense(16, activation=\"relu\"),\n",
    "    layers.Dense(16, activation=\"relu\"),\n",
    "    layers.Dense(1, activation=\"sigmoid\")\n",
    "])\n",
    "\n",
    "# Compile the model\n",
    "model.compile(optimizer=\"rmsprop\",\n",
    "              loss=\"binary_crossentropy\",\n",
    "              metrics=[\"accuracy\"])\n",
    "\n",
    "# Settingt the validation set\n",
    "x_val = x_train[:10000]             # validation for the first 10000 data in training set\n",
    "partial_x_train = x_train[10000:]      # trainig data for the rest of data which is 25000-10000=15000\n",
    "y_val = y_train[:10000]\n",
    "partial_y_train = y_train[10000:]\n",
    "\n",
    "# Train the model\n",
    "history = model.fit(partial_x_train,\n",
    "                    partial_y_train,\n",
    "                    epochs=20,     # run the model for 20 epoch and each epoch for 512 batch\n",
    "                    batch_size=512,\n",
    "                    validation_data=(x_val, y_val))"
   ]
  },
  {
   "cell_type": "code",
   "execution_count": 6,
   "metadata": {
    "colab": {
     "base_uri": "https://localhost:8080/"
    },
    "executionInfo": {
     "elapsed": 134,
     "status": "ok",
     "timestamp": 1695062806259,
     "user": {
      "displayName": "Yanxi Li",
      "userId": "03513793660563860424"
     },
     "user_tz": 240
    },
    "id": "hP7EZlVwYG_1",
    "outputId": "7cb7b00d-8392-4f73-9319-6f3359470e33"
   },
   "outputs": [
    {
     "data": {
      "text/plain": [
       "dict_keys(['loss', 'accuracy', 'val_loss', 'val_accuracy'])"
      ]
     },
     "execution_count": 6,
     "metadata": {},
     "output_type": "execute_result"
    }
   ],
   "source": [
    "history_dict = history.history\n",
    "history_dict.keys()  # show key names in the dictionary"
   ]
  },
  {
   "cell_type": "markdown",
   "metadata": {
    "id": "leaKBtkbOWBo"
   },
   "source": [
    "#### Plotting the training and validation loss"
   ]
  },
  {
   "cell_type": "code",
   "execution_count": 7,
   "metadata": {
    "colab": {
     "base_uri": "https://localhost:8080/",
     "height": 472
    },
    "executionInfo": {
     "elapsed": 516,
     "status": "ok",
     "timestamp": 1695062809515,
     "user": {
      "displayName": "Yanxi Li",
      "userId": "03513793660563860424"
     },
     "user_tz": 240
    },
    "id": "UsqVjtauMKr7",
    "outputId": "70ae0b82-05cb-4245-cf90-f8a540473c50"
   },
   "outputs": [
    {
     "data": {
      "image/png": "[encoded data removed]",
      "text/plain": [
       "<Figure size 432x288 with 1 Axes>"
      ]
     },
     "metadata": {
      "needs_background": "light"
     },
     "output_type": "display_data"
    }
   ],
   "source": [
    "history_dict = history.history\n",
    "loss_values = history_dict[\"loss\"]\n",
    "val_loss_values = history_dict[\"val_loss\"]\n",
    "epochs = range(1, len(loss_values) + 1)\n",
    "plt.plot(epochs, loss_values, \"b\", label=\"Training loss\")\n",
    "plt.plot(epochs, val_loss_values, \"r\", label=\"Validation loss\")\n",
    "plt.title(\"Training and validation loss\")\n",
    "plt.xlabel(\"Epochs\")\n",
    "plt.ylabel(\"Loss\")\n",
    "plt.legend()\n",
    "plt.show()"
   ]
  },
  {
   "cell_type": "markdown",
   "metadata": {
    "id": "S2urd08YQNAN"
   },
   "source": [
    "From the loss pattern in training & validation, the validation loss **starts to increase** around 4 epochs, the **original model choose the 4 epochs** to retrain the model using the testing data."
   ]
  },
  {
   "cell_type": "markdown",
   "metadata": {
    "id": "tZuVxPRYOiTR"
   },
   "source": [
    "#### Retraining a model from scratch"
   ]
  },
  {
   "cell_type": "code",
   "execution_count": 17,
   "metadata": {
    "colab": {
     "base_uri": "https://localhost:8080/"
    },
    "executionInfo": {
     "elapsed": 21134,
     "status": "ok",
     "timestamp": 1695062836992,
     "user": {
      "displayName": "Yanxi Li",
      "userId": "03513793660563860424"
     },
     "user_tz": 240
    },
    "id": "k5jmfuOgNKC-",
    "outputId": "1e06dd78-2af4-4c82-b592-a3c2819d3dd4"
   },
   "outputs": [
    {
     "name": "stdout",
     "output_type": "stream",
     "text": [
      "Epoch 1/4\n",
      "49/49 [==============================] - 2s 21ms/step - loss: 0.4621 - accuracy: 0.8190\n",
      "Epoch 2/4\n",
      "49/49 [==============================] - 1s 17ms/step - loss: 0.2676 - accuracy: 0.9075\n",
      "Epoch 3/4\n",
      "49/49 [==============================] - 1s 14ms/step - loss: 0.2040 - accuracy: 0.9261\n",
      "Epoch 4/4\n",
      "49/49 [==============================] - 1s 13ms/step - loss: 0.1698 - accuracy: 0.9404\n",
      "782/782 [==============================] - 1s 573us/step - loss: 0.2900 - accuracy: 0.8840\n"
     ]
    }
   ],
   "source": [
    "model = keras.Sequential([\n",
    "    layers.Dense(16, activation=\"relu\"),\n",
    "    layers.Dense(16, activation=\"relu\"),\n",
    "    layers.Dense(1, activation=\"sigmoid\")\n",
    "])\n",
    "model.compile(optimizer=\"rmsprop\",\n",
    "              loss=\"binary_crossentropy\",\n",
    "              metrics=[\"accuracy\"])\n",
    "model.fit(x_train, y_train, epochs=4, batch_size=512)  # change to 4 epochs\n",
    "results = model.evaluate(x_test, y_test)"
   ]
  },
  {
   "cell_type": "code",
   "execution_count": 21,
   "metadata": {
    "colab": {
     "base_uri": "https://localhost:8080/"
    },
    "executionInfo": {
     "elapsed": 117,
     "status": "ok",
     "timestamp": 1695062839330,
     "user": {
      "displayName": "Yanxi Li",
      "userId": "03513793660563860424"
     },
     "user_tz": 240
    },
    "id": "a6-Vv0sUNVhw",
    "outputId": "14ad3925-5869-44ab-e9d4-5a57d2b7840e"
   },
   "outputs": [
    {
     "data": {
      "text/plain": [
       "[0.29001015424728394, 0.8840000033378601]"
      ]
     },
     "execution_count": 21,
     "metadata": {},
     "output_type": "execute_result"
    }
   ],
   "source": [
    "results"
   ]
  },
  {
   "cell_type": "markdown",
   "metadata": {
    "id": "uJHiRXR1Q-KX"
   },
   "source": [
    "The original model **test data prediction** result: **loss: 0.2926, accuracy: 0.8840**."
   ]
  },
  {
   "cell_type": "markdown",
   "metadata": {
    "id": "tdTmwAYNRp27"
   },
   "source": [
    "## Question 1: Change to three hidden layers"
   ]
  },
  {
   "cell_type": "code",
   "execution_count": 18,
   "metadata": {
    "colab": {
     "base_uri": "https://localhost:8080/"
    },
    "executionInfo": {
     "elapsed": 29283,
     "status": "ok",
     "timestamp": 1695062871915,
     "user": {
      "displayName": "Yanxi Li",
      "userId": "03513793660563860424"
     },
     "user_tz": 240
    },
    "id": "IypZNTv5RVRM",
    "outputId": "1f750fe2-5442-45d0-b413-acbaf8501267"
   },
   "outputs": [
    {
     "name": "stdout",
     "output_type": "stream",
     "text": [
      "Epoch 1/20\n",
      "30/30 [==============================] - 2s 35ms/step - loss: 0.5298 - accuracy: 0.7732 - val_loss: 0.3966 - val_accuracy: 0.8613\n",
      "Epoch 2/20\n",
      "30/30 [==============================] - 1s 23ms/step - loss: 0.3064 - accuracy: 0.9027 - val_loss: 0.3038 - val_accuracy: 0.8858\n",
      "Epoch 3/20\n",
      "30/30 [==============================] - 1s 21ms/step - loss: 0.2173 - accuracy: 0.9287 - val_loss: 0.3364 - val_accuracy: 0.8625\n",
      "Epoch 4/20\n",
      "30/30 [==============================] - 1s 21ms/step - loss: 0.1714 - accuracy: 0.9434 - val_loss: 0.2753 - val_accuracy: 0.8910\n",
      "Epoch 5/20\n",
      "30/30 [==============================] - 1s 23ms/step - loss: 0.1416 - accuracy: 0.9526 - val_loss: 0.2970 - val_accuracy: 0.8845\n",
      "Epoch 6/20\n",
      "30/30 [==============================] - 1s 21ms/step - loss: 0.1171 - accuracy: 0.9625 - val_loss: 0.3157 - val_accuracy: 0.8821\n",
      "Epoch 7/20\n",
      "30/30 [==============================] - 1s 23ms/step - loss: 0.0951 - accuracy: 0.9706 - val_loss: 0.3732 - val_accuracy: 0.8660\n",
      "Epoch 8/20\n",
      "30/30 [==============================] - 1s 24ms/step - loss: 0.0800 - accuracy: 0.9759 - val_loss: 0.3818 - val_accuracy: 0.8668\n",
      "Epoch 9/20\n",
      "30/30 [==============================] - 1s 21ms/step - loss: 0.0692 - accuracy: 0.9797 - val_loss: 0.3752 - val_accuracy: 0.8744\n",
      "Epoch 10/20\n",
      "30/30 [==============================] - 1s 27ms/step - loss: 0.0552 - accuracy: 0.9839 - val_loss: 0.4244 - val_accuracy: 0.8738\n",
      "Epoch 11/20\n",
      "30/30 [==============================] - 1s 31ms/step - loss: 0.0447 - accuracy: 0.9881 - val_loss: 0.4395 - val_accuracy: 0.8667\n",
      "Epoch 12/20\n",
      "30/30 [==============================] - 1s 28ms/step - loss: 0.0379 - accuracy: 0.9903 - val_loss: 0.5489 - val_accuracy: 0.8503\n",
      "Epoch 13/20\n",
      "30/30 [==============================] - 1s 30ms/step - loss: 0.0310 - accuracy: 0.9923 - val_loss: 0.5070 - val_accuracy: 0.8730\n",
      "Epoch 14/20\n",
      "30/30 [==============================] - 1s 24ms/step - loss: 0.0263 - accuracy: 0.9936 - val_loss: 0.5220 - val_accuracy: 0.8703\n",
      "Epoch 15/20\n",
      "30/30 [==============================] - 1s 25ms/step - loss: 0.0219 - accuracy: 0.9945 - val_loss: 0.5650 - val_accuracy: 0.8695\n",
      "Epoch 16/20\n",
      "30/30 [==============================] - 1s 24ms/step - loss: 0.0118 - accuracy: 0.9987 - val_loss: 0.8162 - val_accuracy: 0.8320\n",
      "Epoch 17/20\n",
      "30/30 [==============================] - 1s 24ms/step - loss: 0.0137 - accuracy: 0.9971 - val_loss: 0.6260 - val_accuracy: 0.8630\n",
      "Epoch 18/20\n",
      "30/30 [==============================] - 1s 21ms/step - loss: 0.0160 - accuracy: 0.9956 - val_loss: 0.6589 - val_accuracy: 0.8660\n",
      "Epoch 19/20\n",
      "30/30 [==============================] - 1s 21ms/step - loss: 0.0049 - accuracy: 0.9998 - val_loss: 0.7011 - val_accuracy: 0.8653\n",
      "Epoch 20/20\n",
      "30/30 [==============================] - 1s 20ms/step - loss: 0.0116 - accuracy: 0.9970 - val_loss: 0.7284 - val_accuracy: 0.8638\n"
     ]
    }
   ],
   "source": [
    "# Build the model with 3 layers\n",
    "model_3_layers = keras.Sequential([\n",
    "    layers.Dense(16, activation=\"relu\"),\n",
    "    layers.Dense(16, activation=\"relu\"),\n",
    "    layers.Dense(16, activation=\"relu\"),\n",
    "    layers.Dense(1, activation=\"sigmoid\")\n",
    "])\n",
    "\n",
    "# Compile the model\n",
    "model_3_layers.compile(optimizer=\"rmsprop\",\n",
    "              loss=\"binary_crossentropy\",\n",
    "              metrics=[\"accuracy\"])\n",
    "\n",
    "# Train the model\n",
    "history_3_layers = model_3_layers.fit(partial_x_train,\n",
    "                    partial_y_train,\n",
    "                    epochs=20,     # run the model for 20 epoch and each epoch for 512 batch\n",
    "                    batch_size=512,\n",
    "                    validation_data=(x_val, y_val))"
   ]
  },
  {
   "cell_type": "markdown",
   "metadata": {},
   "source": [
    "#### Train & Validation loss"
   ]
  },
  {
   "cell_type": "code",
   "execution_count": 19,
   "metadata": {
    "colab": {
     "base_uri": "https://localhost:8080/",
     "height": 472
    },
    "executionInfo": {
     "elapsed": 629,
     "status": "ok",
     "timestamp": 1695062896015,
     "user": {
      "displayName": "Yanxi Li",
      "userId": "03513793660563860424"
     },
     "user_tz": 240
    },
    "id": "WrOhx4bZWP4A",
    "outputId": "078ebab4-15cd-407b-c09f-fe0d7ca8754e"
   },
   "outputs": [
    {
     "data": {
      "image/png": "[encoded data removed]",
      "text/plain": [
       "<Figure size 432x288 with 1 Axes>"
      ]
     },
     "metadata": {
      "needs_background": "light"
     },
     "output_type": "display_data"
    }
   ],
   "source": [
    "history_dict_3layers = history_3_layers.history\n",
    "loss_values = history_dict_3layers[\"loss\"]\n",
    "val_loss_values = history_dict_3layers[\"val_loss\"]\n",
    "epochs = range(1, len(loss_values) + 1)\n",
    "plt.plot(epochs, loss_values, \"b\", label=\"Training loss\")\n",
    "plt.plot(epochs, val_loss_values, \"r\", label=\"Validation loss\")\n",
    "plt.title(\"Training and validation loss with 3 hidden layers\")\n",
    "plt.xlabel(\"Epochs\")\n",
    "plt.ylabel(\"Loss\")\n",
    "plt.legend()\n",
    "plt.show()"
   ]
  },
  {
   "cell_type": "markdown",
   "metadata": {
    "id": "MhOf594sl0q_"
   },
   "source": [
    "The 3 hiddel layer model still need to **choose 4 epochs** to run the test data."
   ]
  },
  {
   "cell_type": "markdown",
   "metadata": {
    "id": "hcWcrISXlllA"
   },
   "source": [
    "#### Test accuracy"
   ]
  },
  {
   "cell_type": "code",
   "execution_count": 20,
   "metadata": {
    "colab": {
     "base_uri": "https://localhost:8080/",
     "height": 246
    },
    "executionInfo": {
     "elapsed": 142,
     "status": "error",
     "timestamp": 1695062934242,
     "user": {
      "displayName": "Yanxi Li",
      "userId": "03513793660563860424"
     },
     "user_tz": 240
    },
    "id": "GiDdohrXlr7q",
    "outputId": "484f2b71-bdfb-4bcb-c4df-68667cd1f985"
   },
   "outputs": [
    {
     "name": "stdout",
     "output_type": "stream",
     "text": [
      "Epoch 1/4\n",
      "49/49 [==============================] - 2s 19ms/step - loss: 0.4586 - accuracy: 0.8158 0s - loss: 0.5132 - accuracy\n",
      "Epoch 2/4\n",
      "49/49 [==============================] - 1s 15ms/step - loss: 0.2501 - accuracy: 0.9092\n",
      "Epoch 3/4\n",
      "49/49 [==============================] - 1s 13ms/step - loss: 0.1936 - accuracy: 0.9316\n",
      "Epoch 4/4\n",
      "49/49 [==============================] - 1s 14ms/step - loss: 0.1618 - accuracy: 0.9426\n",
      "782/782 [==============================] - 1s 615us/step - loss: 0.3106 - accuracy: 0.8806\n"
     ]
    }
   ],
   "source": [
    "model_3_layers = keras.Sequential([\n",
    "    layers.Dense(16, activation=\"relu\"),\n",
    "    layers.Dense(16, activation=\"relu\"),\n",
    "    layers.Dense(16, activation=\"relu\"),\n",
    "    layers.Dense(1, activation=\"sigmoid\")\n",
    "])\n",
    "model_3_layers.compile(optimizer=\"rmsprop\",\n",
    "              loss=\"binary_crossentropy\",\n",
    "              metrics=[\"accuracy\"])\n",
    "model_3_layers.fit(x_train, y_train, epochs=4, batch_size=512)  # change to 4 epochs\n",
    "results_3_layers = model_3_layers.evaluate(x_test, y_test)"
   ]
  },
  {
   "cell_type": "code",
   "execution_count": 22,
   "metadata": {
    "colab": {
     "base_uri": "https://localhost:8080/",
     "height": 176
    },
    "executionInfo": {
     "elapsed": 285,
     "status": "error",
     "timestamp": 1695062550889,
     "user": {
      "displayName": "Yanxi Li",
      "userId": "03513793660563860424"
     },
     "user_tz": 240
    },
    "id": "uiBepyeamb9w",
    "outputId": "6881a442-aeae-4c46-ee4b-6d127cdbf5ff"
   },
   "outputs": [
    {
     "data": {
      "text/plain": [
       "[0.31061962246894836, 0.8805999755859375]"
      ]
     },
     "execution_count": 22,
     "metadata": {},
     "output_type": "execute_result"
    }
   ],
   "source": [
    "results_3_layers"
   ]
  },
  {
   "cell_type": "markdown",
   "metadata": {},
   "source": [
    "The 3 hidden layers model test data prediction result: **loss: 0.3108, accuracy: 0.8805**."
   ]
  },
  {
   "cell_type": "markdown",
   "metadata": {
    "id": "dKZ1qBI_iNHE"
   },
   "source": [
    "#### Validation accuracy & loss comparison"
   ]
  },
  {
   "cell_type": "code",
   "execution_count": 23,
   "metadata": {
    "colab": {
     "base_uri": "https://localhost:8080/",
     "height": 472
    },
    "executionInfo": {
     "elapsed": 518,
     "status": "ok",
     "timestamp": 1695062195327,
     "user": {
      "displayName": "Yanxi Li",
      "userId": "03513793660563860424"
     },
     "user_tz": 240
    },
    "id": "a1c6RXpZW05P",
    "outputId": "a2564170-e2b5-4c92-d3d4-4d507de933c2"
   },
   "outputs": [
    {
     "data": {
      "image/png": "[encoded data removed]",
      "text/plain": [
       "<Figure size 720x288 with 2 Axes>"
      ]
     },
     "metadata": {
      "needs_background": "light"
     },
     "output_type": "display_data"
    }
   ],
   "source": [
    "#plt.rcParams['figure.dpi'] = 300\n",
    "history_dict_3layer = history_3_layers.history\n",
    "val_acc_3_layers = history_dict_3layer['val_accuracy']\n",
    "val_acc = history_dict['val_accuracy']\n",
    "\n",
    "val_loss_3_layers = history_dict_3layer['val_loss']\n",
    "val_loss = history_dict['val_loss']\n",
    "\n",
    "epochs = range(1, len(val_acc)+1)\n",
    "\n",
    "plt.figure(figsize=(10,4)) # set the figure size\n",
    "\n",
    "plt.subplot(1, 2, 1)  # row, column, index\n",
    "plt.plot(epochs, val_acc, \"b\", label=\"Originial 2 hidden layers valication accuracy\")\n",
    "plt.plot(epochs, val_acc_3_layers, \"r\", label=\"3 hidden layes validation accuracy\")\n",
    "plt.title(\"Validation accuracy comparison\")\n",
    "plt.xlabel(\"Epochs\")\n",
    "plt.ylabel(\"Accuracy\")\n",
    "plt.legend()\n",
    "\n",
    "plt.subplot(1, 2, 2) \n",
    "plt.plot(epochs, val_loss, \"b\", label=\"Originial 2 hidden layers valication loss\")\n",
    "plt.plot(epochs, val_loss_3_layers, \"r\", label=\"3 hidden layes validation loss\")\n",
    "plt.title(\"Validation loss comparison\")\n",
    "plt.xlabel(\"Epochs\")\n",
    "plt.ylabel(\"Loss\")\n",
    "plt.legend()\n",
    "\n",
    "plt.tight_layout() # minimize the overlap of the two figures\n",
    "plt.show()"
   ]
  },
  {
   "cell_type": "markdown",
   "metadata": {},
   "source": [
    "### Summary for Question 1:"
   ]
  },
  {
   "cell_type": "markdown",
   "metadata": {},
   "source": [
    "Similarly, 4 epoch is also appropriate for the 3 hidden layers to **minimize the loss function as well as avoid overfit**. Validation accuracy in both models(2&3 hidden layers) are **close to each other**. As for the 4 epoch, 3 hidden layers **accuracy is even lower** than the original 2 hidden layers"
   ]
  },
  {
   "cell_type": "markdown",
   "metadata": {},
   "source": [
    "Model with 3 hidden layers test accuracy is 0.8805, while the original model with 2 hidden layers test accuracy is 0.0.8840. Increasing the number of hidden layers from 2 to 3 even **lower the test accuracy**."
   ]
  },
  {
   "cell_type": "markdown",
   "metadata": {},
   "source": [
    "## Question 2: 32 units with 2 hidden layers"
   ]
  },
  {
   "cell_type": "code",
   "execution_count": 8,
   "metadata": {},
   "outputs": [
    {
     "name": "stdout",
     "output_type": "stream",
     "text": [
      "Epoch 1/20\n",
      "30/30 [==============================] - 3s 42ms/step - loss: 0.4974 - accuracy: 0.7850 - val_loss: 0.3971 - val_accuracy: 0.8410\n",
      "Epoch 2/20\n",
      "30/30 [==============================] - 1s 28ms/step - loss: 0.2802 - accuracy: 0.9047 - val_loss: 0.2906 - val_accuracy: 0.8891\n",
      "Epoch 3/20\n",
      "30/30 [==============================] - 1s 25ms/step - loss: 0.2055 - accuracy: 0.9273 - val_loss: 0.2813 - val_accuracy: 0.8880\n",
      "Epoch 4/20\n",
      "30/30 [==============================] - 1s 27ms/step - loss: 0.1597 - accuracy: 0.9462 - val_loss: 0.2829 - val_accuracy: 0.8889\n",
      "Epoch 5/20\n",
      "30/30 [==============================] - 1s 27ms/step - loss: 0.1283 - accuracy: 0.9569 - val_loss: 0.2932 - val_accuracy: 0.8859\n",
      "Epoch 6/20\n",
      "30/30 [==============================] - 1s 28ms/step - loss: 0.1030 - accuracy: 0.9672 - val_loss: 0.3135 - val_accuracy: 0.8852\n",
      "Epoch 7/20\n",
      "30/30 [==============================] - 1s 34ms/step - loss: 0.0832 - accuracy: 0.9737 - val_loss: 0.3742 - val_accuracy: 0.8754\n",
      "Epoch 8/20\n",
      "30/30 [==============================] - 1s 35ms/step - loss: 0.0671 - accuracy: 0.9798 - val_loss: 0.3831 - val_accuracy: 0.8781\n",
      "Epoch 9/20\n",
      "30/30 [==============================] - 1s 25ms/step - loss: 0.0480 - accuracy: 0.9883 - val_loss: 0.4038 - val_accuracy: 0.8741\n",
      "Epoch 10/20\n",
      "30/30 [==============================] - 1s 25ms/step - loss: 0.0427 - accuracy: 0.9879 - val_loss: 0.4442 - val_accuracy: 0.8750\n",
      "Epoch 11/20\n",
      "30/30 [==============================] - 1s 25ms/step - loss: 0.0280 - accuracy: 0.9943 - val_loss: 0.6271 - val_accuracy: 0.8494\n",
      "Epoch 12/20\n",
      "30/30 [==============================] - 1s 25ms/step - loss: 0.0289 - accuracy: 0.9913 - val_loss: 0.4948 - val_accuracy: 0.8737\n",
      "Epoch 13/20\n",
      "30/30 [==============================] - 1s 27ms/step - loss: 0.0165 - accuracy: 0.9970 - val_loss: 0.6834 - val_accuracy: 0.8439\n",
      "Epoch 14/20\n",
      "30/30 [==============================] - 1s 25ms/step - loss: 0.0097 - accuracy: 0.9993 - val_loss: 0.5662 - val_accuracy: 0.8711\n",
      "Epoch 15/20\n",
      "30/30 [==============================] - 1s 27ms/step - loss: 0.0165 - accuracy: 0.9948 - val_loss: 0.6008 - val_accuracy: 0.8702\n",
      "Epoch 16/20\n",
      "30/30 [==============================] - 1s 27ms/step - loss: 0.0044 - accuracy: 0.9998 - val_loss: 0.6510 - val_accuracy: 0.8647\n",
      "Epoch 17/20\n",
      "30/30 [==============================] - 1s 24ms/step - loss: 0.0099 - accuracy: 0.9972 - val_loss: 0.6760 - val_accuracy: 0.8664\n",
      "Epoch 18/20\n",
      "30/30 [==============================] - 1s 31ms/step - loss: 0.0023 - accuracy: 0.9999 - val_loss: 0.7145 - val_accuracy: 0.8664\n",
      "Epoch 19/20\n",
      "30/30 [==============================] - 1s 28ms/step - loss: 0.0091 - accuracy: 0.9967 - val_loss: 0.7447 - val_accuracy: 0.8657\n",
      "Epoch 20/20\n",
      "30/30 [==============================] - 1s 28ms/step - loss: 0.0012 - accuracy: 0.9999 - val_loss: 0.7755 - val_accuracy: 0.8656\n"
     ]
    }
   ],
   "source": [
    "# Build the model with 32units and 2 layers\n",
    "model_32units = keras.Sequential([\n",
    "    layers.Dense(32, activation=\"relu\"),\n",
    "    layers.Dense(32, activation=\"relu\"),\n",
    "    layers.Dense(1, activation=\"sigmoid\")\n",
    "])\n",
    "\n",
    "# Compile the model\n",
    "model_32units.compile(optimizer=\"rmsprop\",\n",
    "              loss=\"binary_crossentropy\",\n",
    "              metrics=[\"accuracy\"])\n",
    "\n",
    "# Train the model\n",
    "history_32units = model_32units.fit(partial_x_train,\n",
    "                    partial_y_train,\n",
    "                    epochs=20,     # run the model for 20 epochs and each epoch for 512 batch\n",
    "                    batch_size=512,\n",
    "                    validation_data=(x_val, y_val))"
   ]
  },
  {
   "cell_type": "markdown",
   "metadata": {},
   "source": [
    "#### Train & Validation loss"
   ]
  },
  {
   "cell_type": "code",
   "execution_count": 9,
   "metadata": {},
   "outputs": [
    {
     "data": {
      "image/png": "[encoded data removed]",
      "text/plain": [
       "<Figure size 432x288 with 1 Axes>"
      ]
     },
     "metadata": {
      "needs_background": "light"
     },
     "output_type": "display_data"
    }
   ],
   "source": [
    "history_dict_32units = history_32units.history\n",
    "\n",
    "loss_values = history_dict_32units['loss'][:10]  # select 10 epoch could be easier to detect the suitable epoch.\n",
    "val_loss_values = history_dict_32units['val_loss'][:10]\n",
    "\n",
    "epochs = range(1, len(loss_values) + 1)\n",
    "\n",
    "plt.plot(epochs, loss_values, \"b\", label=\"Training loss\")\n",
    "plt.plot(epochs, val_loss_values, \"r\", label=\"Validation loss\")\n",
    "plt.title(\"Training and validation loss with 32 units & 2 layers\")\n",
    "plt.xlabel(\"Epochs\")\n",
    "plt.ylabel(\"Loss\")\n",
    "plt.legend()\n",
    "plt.show()"
   ]
  },
  {
   "cell_type": "markdown",
   "metadata": {},
   "source": [
    "For the 32 units with 2 layers, I choose **3 epochs** to run the test data."
   ]
  },
  {
   "cell_type": "markdown",
   "metadata": {},
   "source": [
    "#### Test accuracy"
   ]
  },
  {
   "cell_type": "code",
   "execution_count": 10,
   "metadata": {},
   "outputs": [
    {
     "name": "stdout",
     "output_type": "stream",
     "text": [
      "Epoch 1/3\n",
      "49/49 [==============================] - 2s 25ms/step - loss: 0.4352 - accuracy: 0.8206\n",
      "Epoch 2/3\n",
      "49/49 [==============================] - 1s 17ms/step - loss: 0.2392 - accuracy: 0.9138\n",
      "Epoch 3/3\n",
      "49/49 [==============================] - 1s 17ms/step - loss: 0.1929 - accuracy: 0.9289\n",
      "782/782 [==============================] - 1s 706us/step - loss: 0.2894 - accuracy: 0.8851\n"
     ]
    }
   ],
   "source": [
    "model_32units = keras.Sequential([\n",
    "    layers.Dense(32, activation=\"relu\"),\n",
    "    layers.Dense(32, activation=\"relu\"),\n",
    "    layers.Dense(1, activation=\"sigmoid\")\n",
    "])\n",
    "model_32units.compile(optimizer=\"rmsprop\",\n",
    "              loss=\"binary_crossentropy\",\n",
    "              metrics=[\"accuracy\"])\n",
    "model_32units.fit(x_train, y_train, epochs=3, batch_size=512)  # change to 3 epochs\n",
    "results_32units = model_32units.evaluate(x_test, y_test)"
   ]
  },
  {
   "cell_type": "code",
   "execution_count": 11,
   "metadata": {},
   "outputs": [
    {
     "data": {
      "text/plain": [
       "[0.2894221544265747, 0.8850799798965454]"
      ]
     },
     "execution_count": 11,
     "metadata": {},
     "output_type": "execute_result"
    }
   ],
   "source": [
    "results_32units"
   ]
  },
  {
   "cell_type": "markdown",
   "metadata": {},
   "source": [
    "The 32 units with 2 layers model test data prediction result: **loss: 0.2894, accuracy: 0.8850.**"
   ]
  },
  {
   "cell_type": "markdown",
   "metadata": {},
   "source": [
    "#### Validation accuracy & loss comparison"
   ]
  },
  {
   "cell_type": "code",
   "execution_count": 12,
   "metadata": {},
   "outputs": [
    {
     "data": {
      "image/png": "[encoded data removed]",
      "text/plain": [
       "<Figure size 720x288 with 2 Axes>"
      ]
     },
     "metadata": {
      "needs_background": "light"
     },
     "output_type": "display_data"
    }
   ],
   "source": [
    "val_acc_32units = history_dict_32units['val_accuracy']\n",
    "val_acc = history_dict['val_accuracy']  \n",
    "\n",
    "val_loss_32units = history_dict_32units['val_loss']\n",
    "val_loss = history_dict['val_loss']\n",
    "\n",
    "epochs = range(1, len(val_acc_32units)+1)\n",
    "\n",
    "plt.figure(figsize=(10,4)) # set the figure size\n",
    "\n",
    "plt.subplot(1, 2, 1)  # row, column, index\n",
    "plt.plot(epochs, val_acc, \"b\", label=\"Originial 16 untis valication accuracy\")\n",
    "plt.plot(epochs, val_acc_32units, \"r\", label=\"32 units validation accuracy\")\n",
    "plt.title(\"Validation accuracy comparison\")\n",
    "plt.xlabel(\"Epochs\")\n",
    "plt.ylabel(\"Accuracy\")\n",
    "plt.legend()\n",
    "\n",
    "plt.subplot(1, 2, 2) \n",
    "plt.plot(epochs, val_loss, \"b\", label=\"Originial 16 units valication loss\")\n",
    "plt.plot(epochs, val_loss_32units, \"r\", label=\"32 units validation loss\")\n",
    "plt.title(\"Validation loss comparison\")\n",
    "plt.xlabel(\"Epochs\")\n",
    "plt.ylabel(\"Loss\")\n",
    "plt.legend()\n",
    "\n",
    "plt.tight_layout() # minimize the overlap of the two figures\n",
    "plt.show()"
   ]
  },
  {
   "cell_type": "markdown",
   "metadata": {},
   "source": [
    "### Summary for Question 2:"
   ]
  },
  {
   "cell_type": "markdown",
   "metadata": {},
   "source": [
    "3 epoch is appropriate for the 32 units with 2 layers to **minimize the loss function as well as avoid overfit**. **Validation accuracy in 32 units is lower** than the original model, and from the validatio loss, **32units begins overfit ealier** than the original 16units model."
   ]
  },
  {
   "cell_type": "markdown",
   "metadata": {},
   "source": [
    "Model with **32 units test accuracy is 0.8850**, while the original model with **16 units test accuracy is 0.8840**. Changing the number of units from 16 to 32 **increase the test accuracy.**"
   ]
  },
  {
   "cell_type": "markdown",
   "metadata": {},
   "source": [
    "## Question 3: Using MSE loss function"
   ]
  },
  {
   "cell_type": "code",
   "execution_count": 13,
   "metadata": {},
   "outputs": [
    {
     "name": "stdout",
     "output_type": "stream",
     "text": [
      "Epoch 1/20\n",
      "30/30 [==============================] - 2s 38ms/step - loss: 0.1650 - accuracy: 0.7911 - val_loss: 0.1150 - val_accuracy: 0.8745\n",
      "Epoch 2/20\n",
      "30/30 [==============================] - 1s 21ms/step - loss: 0.0873 - accuracy: 0.9063 - val_loss: 0.0959 - val_accuracy: 0.8818\n",
      "Epoch 3/20\n",
      "30/30 [==============================] - 1s 24ms/step - loss: 0.0629 - accuracy: 0.9313 - val_loss: 0.0852 - val_accuracy: 0.8878\n",
      "Epoch 4/20\n",
      "30/30 [==============================] - 1s 28ms/step - loss: 0.0497 - accuracy: 0.9457 - val_loss: 0.0877 - val_accuracy: 0.8824\n",
      "Epoch 5/20\n",
      "30/30 [==============================] - 1s 35ms/step - loss: 0.0396 - accuracy: 0.9599 - val_loss: 0.0865 - val_accuracy: 0.8816\n",
      "Epoch 6/20\n",
      "30/30 [==============================] - 1s 24ms/step - loss: 0.0330 - accuracy: 0.9679 - val_loss: 0.0866 - val_accuracy: 0.8817\n",
      "Epoch 7/20\n",
      "30/30 [==============================] - 1s 25ms/step - loss: 0.0276 - accuracy: 0.9729 - val_loss: 0.0879 - val_accuracy: 0.8818\n",
      "Epoch 8/20\n",
      "30/30 [==============================] - 1s 23ms/step - loss: 0.0227 - accuracy: 0.9791 - val_loss: 0.0885 - val_accuracy: 0.8793\n",
      "Epoch 9/20\n",
      "30/30 [==============================] - 1s 21ms/step - loss: 0.0177 - accuracy: 0.9846 - val_loss: 0.0915 - val_accuracy: 0.8785\n",
      "Epoch 10/20\n",
      "30/30 [==============================] - 1s 24ms/step - loss: 0.0160 - accuracy: 0.9863 - val_loss: 0.0937 - val_accuracy: 0.8752\n",
      "Epoch 11/20\n",
      "30/30 [==============================] - 1s 24ms/step - loss: 0.0130 - accuracy: 0.9894 - val_loss: 0.0958 - val_accuracy: 0.8736\n",
      "Epoch 12/20\n",
      "30/30 [==============================] - 1s 21ms/step - loss: 0.0105 - accuracy: 0.9918 - val_loss: 0.0996 - val_accuracy: 0.8695\n",
      "Epoch 13/20\n",
      "30/30 [==============================] - 1s 21ms/step - loss: 0.0093 - accuracy: 0.9922 - val_loss: 0.1002 - val_accuracy: 0.8718\n",
      "Epoch 14/20\n",
      "30/30 [==============================] - 1s 23ms/step - loss: 0.0077 - accuracy: 0.9949 - val_loss: 0.1030 - val_accuracy: 0.8678\n",
      "Epoch 15/20\n",
      "30/30 [==============================] - 1s 21ms/step - loss: 0.0067 - accuracy: 0.9943 - val_loss: 0.1039 - val_accuracy: 0.8702\n",
      "Epoch 16/20\n",
      "30/30 [==============================] - 1s 24ms/step - loss: 0.0050 - accuracy: 0.9967 - val_loss: 0.1053 - val_accuracy: 0.8674\n",
      "Epoch 17/20\n",
      "30/30 [==============================] - 1s 21ms/step - loss: 0.0060 - accuracy: 0.9948 - val_loss: 0.1075 - val_accuracy: 0.8670\n",
      "Epoch 18/20\n",
      "30/30 [==============================] - 1s 20ms/step - loss: 0.0033 - accuracy: 0.9975 - val_loss: 0.1091 - val_accuracy: 0.8651\n",
      "Epoch 19/20\n",
      "30/30 [==============================] - 1s 17ms/step - loss: 0.0054 - accuracy: 0.9947 - val_loss: 0.1096 - val_accuracy: 0.8652\n",
      "Epoch 20/20\n",
      "30/30 [==============================] - 1s 20ms/step - loss: 0.0027 - accuracy: 0.9976 - val_loss: 0.1115 - val_accuracy: 0.8627\n"
     ]
    }
   ],
   "source": [
    "# Build the model with 16units and 2 layers\n",
    "model_mse = keras.Sequential([\n",
    "    layers.Dense(16, activation=\"relu\"),\n",
    "    layers.Dense(16, activation=\"relu\"),\n",
    "    layers.Dense(1, activation=\"sigmoid\")\n",
    "])\n",
    "\n",
    "# Compile the model\n",
    "model_mse.compile(optimizer=\"rmsprop\",\n",
    "              loss=\"MSE\",\n",
    "              metrics=[\"accuracy\"])\n",
    "\n",
    "# Train the model\n",
    "history_mse = model_mse.fit(partial_x_train,\n",
    "                    partial_y_train,\n",
    "                    epochs=20,     # run the model for 20 epochs and each epoch for 512 batch\n",
    "                    batch_size=512,\n",
    "                    validation_data=(x_val, y_val))"
   ]
  },
  {
   "cell_type": "markdown",
   "metadata": {},
   "source": [
    "#### Train & Validation loss"
   ]
  },
  {
   "cell_type": "code",
   "execution_count": 14,
   "metadata": {},
   "outputs": [
    {
     "data": {
      "image/png": "[encoded data removed]",
      "text/plain": [
       "<Figure size 432x288 with 1 Axes>"
      ]
     },
     "metadata": {
      "needs_background": "light"
     },
     "output_type": "display_data"
    }
   ],
   "source": [
    "history_dict_mse = history_mse.history\n",
    "\n",
    "loss_values = history_dict_mse['loss'][:10]  # select 10 epoch could be easier to detect the suitable epoch.\n",
    "val_loss_values = history_dict_mse['val_loss'][:10]\n",
    "\n",
    "epochs = range(1, len(loss_values) + 1)\n",
    "\n",
    "plt.plot(epochs, loss_values, \"b\", label=\"Training loss\")\n",
    "plt.plot(epochs, val_loss_values, \"r\", label=\"Validation loss\")\n",
    "plt.title(\"Training and validation loss with MSE loss function\")\n",
    "plt.xlabel(\"Epochs\")\n",
    "plt.ylabel(\"Loss\")\n",
    "plt.legend()\n",
    "plt.show()"
   ]
  },
  {
   "cell_type": "markdown",
   "metadata": {},
   "source": [
    "The MSE loss function model still need to choose **4 epochs** to run the test data. But we **cannot tell any increase from the validation loss** curve."
   ]
  },
  {
   "cell_type": "markdown",
   "metadata": {},
   "source": [
    "#### Test accuracy"
   ]
  },
  {
   "cell_type": "code",
   "execution_count": 15,
   "metadata": {},
   "outputs": [
    {
     "name": "stdout",
     "output_type": "stream",
     "text": [
      "Epoch 1/4\n",
      "49/49 [==============================] - 2s 17ms/step - loss: 0.1477 - accuracy: 0.8126\n",
      "Epoch 2/4\n",
      "49/49 [==============================] - 1s 19ms/step - loss: 0.0777 - accuracy: 0.9104\n",
      "Epoch 3/4\n",
      "49/49 [==============================] - 1s 15ms/step - loss: 0.0586 - accuracy: 0.9310\n",
      "Epoch 4/4\n",
      "49/49 [==============================] - 1s 13ms/step - loss: 0.0472 - accuracy: 0.9456\n",
      "782/782 [==============================] - 1s 679us/step - loss: 0.0889 - accuracy: 0.8804\n"
     ]
    }
   ],
   "source": [
    "model_mse = keras.Sequential([\n",
    "    layers.Dense(16, activation=\"relu\"),\n",
    "    layers.Dense(16, activation=\"relu\"),\n",
    "    layers.Dense(1, activation=\"sigmoid\")\n",
    "])\n",
    "model_mse.compile(optimizer=\"rmsprop\",\n",
    "              loss=\"MSE\",\n",
    "              metrics=[\"accuracy\"])\n",
    "model_mse.fit(x_train, y_train, epochs=4, batch_size=512)  # change to 3 epochs\n",
    "results_mse = model_mse.evaluate(x_test, y_test)"
   ]
  },
  {
   "cell_type": "code",
   "execution_count": 16,
   "metadata": {},
   "outputs": [
    {
     "data": {
      "text/plain": [
       "[0.08892610669136047, 0.8804000020027161]"
      ]
     },
     "execution_count": 16,
     "metadata": {},
     "output_type": "execute_result"
    }
   ],
   "source": [
    "results_mse"
   ]
  },
  {
   "cell_type": "markdown",
   "metadata": {},
   "source": [
    "The MSE loss function model test data prediction result: **loss: 0.089, accuracy: 0.8804**."
   ]
  },
  {
   "cell_type": "markdown",
   "metadata": {},
   "source": [
    "#### Validation accuracy & loss comparison"
   ]
  },
  {
   "cell_type": "code",
   "execution_count": 17,
   "metadata": {},
   "outputs": [
    {
     "data": {
      "image/png": "[encoded data removed]",
      "text/plain": [
       "<Figure size 720x288 with 2 Axes>"
      ]
     },
     "metadata": {
      "needs_background": "light"
     },
     "output_type": "display_data"
    }
   ],
   "source": [
    "val_acc_mse = history_dict_mse['val_accuracy']\n",
    "val_acc = history_dict['val_accuracy']  \n",
    "\n",
    "val_loss_mse = history_dict_mse['val_loss']\n",
    "val_loss = history_dict['val_loss']\n",
    "\n",
    "epochs = range(1, len(val_acc_mse)+1)\n",
    "\n",
    "plt.figure(figsize=(10,4)) # set the figure size\n",
    "\n",
    "plt.subplot(1, 2, 1)  # row, column, index\n",
    "plt.plot(epochs, val_acc, \"b\", label=\"binary_crossentropy\")\n",
    "plt.plot(epochs, val_acc_mse, \"r\", label=\"MSE loss function\")\n",
    "plt.title(\"Validation accuracy comparison\")\n",
    "plt.xlabel(\"Epochs\")\n",
    "plt.ylabel(\"Accuracy\")\n",
    "plt.legend()\n",
    "\n",
    "plt.subplot(1, 2, 2) \n",
    "plt.plot(epochs, val_loss, \"b\", label=\"binary_crossentropy\")\n",
    "plt.plot(epochs, val_loss_mse, \"r\", label=\"MSE loss function\")\n",
    "plt.title(\"Validation loss comparison\")\n",
    "plt.xlabel(\"Epochs\")\n",
    "plt.ylabel(\"Loss\")\n",
    "plt.legend()\n",
    "\n",
    "plt.tight_layout() # minimize the overlap of the two figures\n",
    "plt.show()"
   ]
  },
  {
   "cell_type": "markdown",
   "metadata": {},
   "source": [
    "### Summary for Question 3:"
   ]
  },
  {
   "cell_type": "markdown",
   "metadata": {},
   "source": [
    "Although the **loss function MSE doesnot change much in test data loss and accuracy as well as validation data accuracy**, the validation loss figure shows that the **MSE loss doesnot change with the epochs increasing**. MSE loss function **should not be used** in this condition."
   ]
  },
  {
   "cell_type": "markdown",
   "metadata": {},
   "source": [
    "#### Distinguish binary_crossentropy & MSE"
   ]
  },
  {
   "cell_type": "markdown",
   "metadata": {},
   "source": [
    "Loss function **binary_crossentropy** is a loss function that is often used for **binary classification** problems, where the output is a probability distribution over a set of classes.Cross entropy loss function penalizes the neural network for assigning low probabilities to the correct class and high probabilities to the wrong classes.\\\n",
    "MSE, **mean squared error**, is often used for **regression** problems, where the output is a continuous value or a vector of values. MSE penalizes the neural network for deviating from the true output by squaring the difference between them."
   ]
  },
  {
   "cell_type": "markdown",
   "metadata": {},
   "source": [
    "## Question 4: Using tanh activation"
   ]
  },
  {
   "cell_type": "code",
   "execution_count": 8,
   "metadata": {},
   "outputs": [
    {
     "name": "stdout",
     "output_type": "stream",
     "text": [
      "Epoch 1/10\n",
      "30/30 [==============================] - 2s 35ms/step - loss: 0.4712 - accuracy: 0.7972 - val_loss: 0.3415 - val_accuracy: 0.8754\n",
      "Epoch 2/10\n",
      "30/30 [==============================] - 1s 21ms/step - loss: 0.2634 - accuracy: 0.9083 - val_loss: 0.2859 - val_accuracy: 0.8854\n",
      "Epoch 3/10\n",
      "30/30 [==============================] - 1s 24ms/step - loss: 0.1854 - accuracy: 0.9377 - val_loss: 0.2685 - val_accuracy: 0.8904\n",
      "Epoch 4/10\n",
      "30/30 [==============================] - 1s 21ms/step - loss: 0.1444 - accuracy: 0.9485 - val_loss: 0.2849 - val_accuracy: 0.8872\n",
      "Epoch 5/10\n",
      "30/30 [==============================] - 1s 21ms/step - loss: 0.1129 - accuracy: 0.9617 - val_loss: 0.3089 - val_accuracy: 0.8836\n",
      "Epoch 6/10\n",
      "30/30 [==============================] - 1s 21ms/step - loss: 0.0828 - accuracy: 0.9735 - val_loss: 0.4691 - val_accuracy: 0.8535\n",
      "Epoch 7/10\n",
      "30/30 [==============================] - 1s 21ms/step - loss: 0.0661 - accuracy: 0.9786 - val_loss: 0.3976 - val_accuracy: 0.8730\n",
      "Epoch 8/10\n",
      "30/30 [==============================] - 1s 20ms/step - loss: 0.0556 - accuracy: 0.9829 - val_loss: 0.4322 - val_accuracy: 0.8731\n",
      "Epoch 9/10\n",
      "30/30 [==============================] - 1s 27ms/step - loss: 0.0454 - accuracy: 0.9861 - val_loss: 0.4628 - val_accuracy: 0.8730\n",
      "Epoch 10/10\n",
      "30/30 [==============================] - 1s 24ms/step - loss: 0.0278 - accuracy: 0.9929 - val_loss: 0.5062 - val_accuracy: 0.8697\n"
     ]
    }
   ],
   "source": [
    "# Build the model with 16 units and 2 layers\n",
    "model_tanh = keras.Sequential([\n",
    "    layers.Dense(16, activation=\"tanh\"),\n",
    "    layers.Dense(16, activation=\"tanh\"),\n",
    "    layers.Dense(1, activation=\"sigmoid\")\n",
    "])\n",
    "\n",
    "# Compile the model\n",
    "model_tanh.compile(optimizer=\"rmsprop\",\n",
    "              loss=\"binary_crossentropy\",\n",
    "              metrics=[\"accuracy\"])\n",
    "\n",
    "# Train the model\n",
    "history_tanh = model_tanh.fit(partial_x_train,\n",
    "                    partial_y_train,\n",
    "                    epochs=10,     # run the model for 10 epochs and each epoch for 512 batch\n",
    "                    batch_size=512,\n",
    "                    validation_data=(x_val, y_val))"
   ]
  },
  {
   "cell_type": "markdown",
   "metadata": {},
   "source": [
    "#### Train & validation loss"
   ]
  },
  {
   "cell_type": "code",
   "execution_count": 9,
   "metadata": {},
   "outputs": [
    {
     "data": {
      "image/png": "[encoded data removed]",
      "text/plain": [
       "<Figure size 432x288 with 1 Axes>"
      ]
     },
     "metadata": {
      "needs_background": "light"
     },
     "output_type": "display_data"
    }
   ],
   "source": [
    "history_dict_tanh = history_tanh.history\n",
    "\n",
    "loss_values = history_dict_tanh['loss'][:10]  # select 10 epoch could be easier to detect the suitable epoch.\n",
    "val_loss_values = history_dict_tanh['val_loss'][:10]\n",
    "\n",
    "epochs = range(1, len(loss_values) + 1)\n",
    "\n",
    "plt.plot(epochs, loss_values, \"b\", label=\"Training loss\")\n",
    "plt.plot(epochs, val_loss_values, \"r\", label=\"Validation loss\")\n",
    "plt.title(\"Training and validation with tanh activation\")\n",
    "plt.xlabel(\"Epochs\")\n",
    "plt.ylabel(\"Loss\")\n",
    "plt.legend()\n",
    "plt.show()"
   ]
  },
  {
   "cell_type": "markdown",
   "metadata": {},
   "source": [
    "For the tanh activation model with 16 units and 2 layers, I choose **3 epochs** to run the test data."
   ]
  },
  {
   "cell_type": "markdown",
   "metadata": {},
   "source": [
    "#### Test accuracy"
   ]
  },
  {
   "cell_type": "code",
   "execution_count": 10,
   "metadata": {},
   "outputs": [
    {
     "name": "stdout",
     "output_type": "stream",
     "text": [
      "Epoch 1/3\n",
      "49/49 [==============================] - 2s 21ms/step - loss: 0.4226 - accuracy: 0.8226\n",
      "Epoch 2/3\n",
      "49/49 [==============================] - 1s 14ms/step - loss: 0.2289 - accuracy: 0.9153\n",
      "Epoch 3/3\n",
      "49/49 [==============================] - 1s 13ms/step - loss: 0.1800 - accuracy: 0.9323 0s - loss: 0.1789 - accuracy - ETA: 0s - loss: 0.1813 - accuracy: 0.93\n",
      "782/782 [==============================] - 1s 620us/step - loss: 0.3003 - accuracy: 0.8820\n"
     ]
    }
   ],
   "source": [
    "model_tanh = keras.Sequential([\n",
    "    layers.Dense(16, activation=\"tanh\"),\n",
    "    layers.Dense(16, activation=\"tanh\"),\n",
    "    layers.Dense(1, activation=\"sigmoid\")\n",
    "])\n",
    "model_tanh.compile(optimizer=\"rmsprop\",\n",
    "              loss=\"binary_crossentropy\",\n",
    "              metrics=[\"accuracy\"])\n",
    "model_tanh.fit(x_train, y_train, epochs=3, batch_size=512)  # change to 3 epochs\n",
    "results_tanh = model_tanh.evaluate(x_test, y_test)"
   ]
  },
  {
   "cell_type": "code",
   "execution_count": 11,
   "metadata": {},
   "outputs": [
    {
     "data": {
      "text/plain": [
       "[0.3002675473690033, 0.8819599747657776]"
      ]
     },
     "execution_count": 11,
     "metadata": {},
     "output_type": "execute_result"
    }
   ],
   "source": [
    "results_tanh"
   ]
  },
  {
   "cell_type": "markdown",
   "metadata": {},
   "source": [
    "The tanh activation model test data prediction result: **loss: 0.30626, accuracy: 0.8820.**"
   ]
  },
  {
   "cell_type": "markdown",
   "metadata": {},
   "source": [
    "#### Validation accuracy & loss comparison"
   ]
  },
  {
   "cell_type": "code",
   "execution_count": 13,
   "metadata": {},
   "outputs": [
    {
     "data": {
      "image/png": "[encoded data removed]",
      "text/plain": [
       "<Figure size 720x288 with 2 Axes>"
      ]
     },
     "metadata": {
      "needs_background": "light"
     },
     "output_type": "display_data"
    }
   ],
   "source": [
    "val_acc_tanh = history_dict_tanh['val_accuracy']\n",
    "val_acc = history_dict['val_accuracy'][:10]  \n",
    "\n",
    "val_loss_tanh = history_dict_tanh['val_loss']\n",
    "val_loss = history_dict['val_loss'][:10]\n",
    "\n",
    "epochs = range(1, len(val_acc_tanh)+1)\n",
    "\n",
    "plt.figure(figsize=(10,4)) # set the figure size\n",
    "\n",
    "plt.subplot(1, 2, 1)  # row, column, index\n",
    "plt.plot(epochs, val_acc, \"b\", label=\"Relu\")\n",
    "plt.plot(epochs, val_acc_tanh, \"r\", label=\"tanh\")\n",
    "plt.title(\"Validation accuracy comparison\")\n",
    "plt.xlabel(\"Epochs\")\n",
    "plt.ylabel(\"Accuracy\")\n",
    "plt.legend()\n",
    "\n",
    "plt.subplot(1, 2, 2) \n",
    "plt.plot(epochs, val_loss, \"b\", label=\"Relu\")\n",
    "plt.plot(epochs, val_loss_tanh, \"r\", label=\"tanh\")\n",
    "plt.title(\"Validation loss comparison\")\n",
    "plt.xlabel(\"Epochs\")\n",
    "plt.ylabel(\"Loss\")\n",
    "plt.legend()\n",
    "\n",
    "plt.tight_layout() # minimize the overlap of the two figures\n",
    "plt.show()"
   ]
  },
  {
   "cell_type": "markdown",
   "metadata": {},
   "source": [
    "### Summary for Question 4:"
   ]
  },
  {
   "cell_type": "markdown",
   "metadata": {},
   "source": [
    "The validation accuracy **doesnot change too much** comparing the 2 activation. As for the validation loss, **tanh activation become overfit earlier than Relu.**"
   ]
  },
  {
   "cell_type": "markdown",
   "metadata": {},
   "source": [
    "Tanh activation model test accuracy is **lower than** the original Relu model."
   ]
  },
  {
   "cell_type": "markdown",
   "metadata": {},
   "source": [
    "#### ReLu and Tanh activation"
   ]
  },
  {
   "cell_type": "markdown",
   "metadata": {},
   "source": [
    "Relu, Rectified linear unit, **output the input for positive values, and 0 otherwise**.\\\n",
    "Relu is the best and most advanced activation function in deep learning right now because it removes the **vanishing gradient problem** and also computationally less expensive compared to the other activation function like sigmoid and tanh."
   ]
  },
  {
   "cell_type": "markdown",
   "metadata": {},
   "source": [
    "## Question 5_1: Using regularization to improve model"
   ]
  },
  {
   "cell_type": "code",
   "execution_count": 14,
   "metadata": {},
   "outputs": [],
   "source": [
    "from tensorflow.keras import regularizers"
   ]
  },
  {
   "cell_type": "code",
   "execution_count": 15,
   "metadata": {},
   "outputs": [
    {
     "name": "stdout",
     "output_type": "stream",
     "text": [
      "Epoch 1/10\n",
      "30/30 [==============================] - 2s 38ms/step - loss: 0.6240 - accuracy: 0.7784 - val_loss: 0.4972 - val_accuracy: 0.8612\n",
      "Epoch 2/10\n",
      "30/30 [==============================] - 1s 24ms/step - loss: 0.4267 - accuracy: 0.8882 - val_loss: 0.4089 - val_accuracy: 0.8779\n",
      "Epoch 3/10\n",
      "30/30 [==============================] - 1s 24ms/step - loss: 0.3500 - accuracy: 0.9099 - val_loss: 0.3747 - val_accuracy: 0.8870\n",
      "Epoch 4/10\n",
      "30/30 [==============================] - 1s 21ms/step - loss: 0.3145 - accuracy: 0.9195 - val_loss: 0.3635 - val_accuracy: 0.8875\n",
      "Epoch 5/10\n",
      "30/30 [==============================] - 1s 25ms/step - loss: 0.2926 - accuracy: 0.9257 - val_loss: 0.3605 - val_accuracy: 0.8875\n",
      "Epoch 6/10\n",
      "30/30 [==============================] - 1s 28ms/step - loss: 0.2791 - accuracy: 0.9310 - val_loss: 0.3617 - val_accuracy: 0.8843\n",
      "Epoch 7/10\n",
      "30/30 [==============================] - 1s 27ms/step - loss: 0.2704 - accuracy: 0.9336 - val_loss: 0.3663 - val_accuracy: 0.8821\n",
      "Epoch 8/10\n",
      "30/30 [==============================] - 1s 24ms/step - loss: 0.2613 - accuracy: 0.9367 - val_loss: 0.3662 - val_accuracy: 0.8850\n",
      "Epoch 9/10\n",
      "30/30 [==============================] - 1s 21ms/step - loss: 0.2525 - accuracy: 0.9403 - val_loss: 0.3829 - val_accuracy: 0.8774\n",
      "Epoch 10/10\n",
      "30/30 [==============================] - 1s 20ms/step - loss: 0.2485 - accuracy: 0.9436 - val_loss: 0.3822 - val_accuracy: 0.8764\n"
     ]
    }
   ],
   "source": [
    "# Build the model with regularization\n",
    "model_regu = keras.Sequential([\n",
    "    layers.Dense(16, kernel_regularizer=regularizers.l2(0.002), activation=\"relu\"), # use L2 regularization\n",
    "    layers.Dense(16, kernel_regularizer=regularizers.l2(0.002), activation=\"relu\"),\n",
    "    layers.Dense(1, activation=\"sigmoid\")\n",
    "])\n",
    "\n",
    "# Compile the model\n",
    "model_regu.compile(optimizer=\"rmsprop\",\n",
    "              loss=\"binary_crossentropy\",\n",
    "              metrics=[\"accuracy\"])\n",
    "\n",
    "# Train the model\n",
    "history_regu = model_regu.fit(partial_x_train,\n",
    "                    partial_y_train,\n",
    "                    epochs=10,     # run the model for 20 epochs and each epoch for 512 batch\n",
    "                    batch_size=512,\n",
    "                    validation_data=(x_val, y_val))"
   ]
  },
  {
   "cell_type": "code",
   "execution_count": 16,
   "metadata": {},
   "outputs": [],
   "source": [
    "history_dict_regu = history_regu.history"
   ]
  },
  {
   "cell_type": "markdown",
   "metadata": {},
   "source": [
    "#### Comparing the validation accuracy & loss"
   ]
  },
  {
   "cell_type": "code",
   "execution_count": 17,
   "metadata": {},
   "outputs": [
    {
     "data": {
      "image/png": "[encoded data removed]",
      "text/plain": [
       "<Figure size 720x288 with 2 Axes>"
      ]
     },
     "metadata": {
      "needs_background": "light"
     },
     "output_type": "display_data"
    }
   ],
   "source": [
    "val_acc_regu = history_dict_regu['val_accuracy']\n",
    "val_acc = history_dict['val_accuracy'][:10]  \n",
    "\n",
    "val_loss_regu = history_dict_regu['val_loss']\n",
    "val_loss = history_dict['val_loss'][:10]  \n",
    "\n",
    "epochs = range(1, len(val_acc_regu)+1)\n",
    "\n",
    "plt.figure(figsize=(10,4)) # set the figure size\n",
    "\n",
    "plt.subplot(1, 2, 1)  # row, column, index\n",
    "plt.plot(epochs, val_acc, \"b\", label=\"Original\")\n",
    "plt.plot(epochs, val_acc_regu, \"r\", label=\"Regularization\")\n",
    "plt.title(\"Validation accuracy comparison\")\n",
    "plt.xlabel(\"Epochs\")\n",
    "plt.ylabel(\"Accuracy\")\n",
    "plt.legend()\n",
    "\n",
    "plt.subplot(1, 2, 2) \n",
    "plt.plot(epochs, val_loss, \"b\", label=\"Original\")\n",
    "plt.plot(epochs, val_loss_regu, \"r\", label=\"Regularization\")\n",
    "plt.title(\"Validation loss comparison\")\n",
    "plt.xlabel(\"Epochs\")\n",
    "plt.ylabel(\"Loss\")\n",
    "plt.legend()\n",
    "\n",
    "plt.tight_layout() # minimize the overlap of the two figures\n",
    "plt.show()"
   ]
  },
  {
   "cell_type": "markdown",
   "metadata": {},
   "source": [
    "Using the regularization **doesnot increase the validation accuracy or decrease the loss**, if we zoom in the figure, the validation loss is **even increase** after regularization."
   ]
  },
  {
   "cell_type": "markdown",
   "metadata": {},
   "source": [
    "## Question 5_2: Using dropout to improve model"
   ]
  },
  {
   "cell_type": "code",
   "execution_count": 18,
   "metadata": {},
   "outputs": [
    {
     "name": "stdout",
     "output_type": "stream",
     "text": [
      "Epoch 1/10\n",
      "30/30 [==============================] - 2s 35ms/step - loss: 0.6375 - accuracy: 0.6392 - val_loss: 0.5536 - val_accuracy: 0.8404\n",
      "Epoch 2/10\n",
      "30/30 [==============================] - 1s 23ms/step - loss: 0.5255 - accuracy: 0.7679 - val_loss: 0.4380 - val_accuracy: 0.8664\n",
      "Epoch 3/10\n",
      "30/30 [==============================] - 1s 21ms/step - loss: 0.4454 - accuracy: 0.8154 - val_loss: 0.3716 - val_accuracy: 0.8689\n",
      "Epoch 4/10\n",
      "30/30 [==============================] - 1s 24ms/step - loss: 0.3739 - accuracy: 0.8543 - val_loss: 0.3108 - val_accuracy: 0.8835\n",
      "Epoch 5/10\n",
      "30/30 [==============================] - 1s 21ms/step - loss: 0.3233 - accuracy: 0.8778 - val_loss: 0.2867 - val_accuracy: 0.8889\n",
      "Epoch 6/10\n",
      "30/30 [==============================] - 1s 24ms/step - loss: 0.2844 - accuracy: 0.8997 - val_loss: 0.2851 - val_accuracy: 0.8832\n",
      "Epoch 7/10\n",
      "30/30 [==============================] - 1s 21ms/step - loss: 0.2488 - accuracy: 0.9135 - val_loss: 0.2714 - val_accuracy: 0.8939\n",
      "Epoch 8/10\n",
      "30/30 [==============================] - 1s 23ms/step - loss: 0.2274 - accuracy: 0.9217 - val_loss: 0.2746 - val_accuracy: 0.8911\n",
      "Epoch 9/10\n",
      "30/30 [==============================] - 1s 24ms/step - loss: 0.1985 - accuracy: 0.9375 - val_loss: 0.2923 - val_accuracy: 0.8925\n",
      "Epoch 10/10\n",
      "30/30 [==============================] - 1s 24ms/step - loss: 0.1810 - accuracy: 0.9422 - val_loss: 0.2974 - val_accuracy: 0.8908\n"
     ]
    }
   ],
   "source": [
    "# Build the model with dropout\n",
    "model_drop = keras.Sequential([\n",
    "    layers.Dense(16, activation=\"relu\"), \n",
    "    layers.Dropout(0.5),\n",
    "    layers.Dense(16, activation=\"relu\"),\n",
    "    layers.Dropout(0.5),\n",
    "    layers.Dense(1, activation=\"sigmoid\")\n",
    "])\n",
    "\n",
    "# Compile the model\n",
    "model_drop.compile(optimizer=\"rmsprop\",\n",
    "              loss=\"binary_crossentropy\",\n",
    "              metrics=[\"accuracy\"])\n",
    "\n",
    "# Train the model\n",
    "history_drop = model_drop.fit(partial_x_train,\n",
    "                    partial_y_train,\n",
    "                    epochs=10,     # run the model for 20 epochs and each epoch for 512 batch\n",
    "                    batch_size=512,\n",
    "                    validation_data=(x_val, y_val))"
   ]
  },
  {
   "cell_type": "markdown",
   "metadata": {},
   "source": [
    "#### Validation accuracy & loss"
   ]
  },
  {
   "cell_type": "code",
   "execution_count": 19,
   "metadata": {},
   "outputs": [
    {
     "data": {
      "image/png": "[encoded data removed]",
      "text/plain": [
       "<Figure size 720x288 with 2 Axes>"
      ]
     },
     "metadata": {
      "needs_background": "light"
     },
     "output_type": "display_data"
    }
   ],
   "source": [
    "history_dict_drop = history_drop.history\n",
    "\n",
    "val_acc_drop = history_dict_drop['val_accuracy']\n",
    "val_acc = history_dict['val_accuracy'][:10]\n",
    "\n",
    "val_loss_drop = history_dict_drop['val_loss']\n",
    "val_loss = history_dict['val_loss'][:10]\n",
    "\n",
    "epochs = range(1, len(val_acc_drop)+1)\n",
    "\n",
    "plt.figure(figsize=(10,4)) # set the figure size\n",
    "\n",
    "plt.subplot(1, 2, 1)  # row, column, index\n",
    "plt.plot(epochs, val_acc, \"b\", label=\"Original\")\n",
    "plt.plot(epochs, val_acc_drop, \"r\", label=\"Dropout\")\n",
    "plt.title(\"Validation accuracy comparison\")\n",
    "plt.xlabel(\"Epochs\")\n",
    "plt.ylabel(\"Accuracy\")\n",
    "plt.legend()\n",
    "\n",
    "plt.subplot(1, 2, 2) \n",
    "plt.plot(epochs, val_loss, \"b\", label=\"Original\")\n",
    "plt.plot(epochs, val_loss_drop, \"r\", label=\"Dropout\")\n",
    "plt.title(\"Validation loss comparison\")\n",
    "plt.xlabel(\"Epochs\")\n",
    "plt.ylabel(\"Loss\")\n",
    "plt.legend()\n",
    "\n",
    "plt.tight_layout() # minimize the overlap of the two figures\n",
    "plt.show()"
   ]
  },
  {
   "cell_type": "markdown",
   "metadata": {},
   "source": [
    "Adding the dropout can slightly increase the validation accuracy and slightly lower the validation loss as well as becoming overfit in a larger epoch number."
   ]
  },
  {
   "cell_type": "markdown",
   "metadata": {},
   "source": [
    "### Summary for Question 5:"
   ]
  },
  {
   "cell_type": "markdown",
   "metadata": {},
   "source": [
    "In the current model, using **dropout method is more appropriate** to increase the validation accuracy and avoid overfit."
   ]
  },
  {
   "cell_type": "markdown",
   "metadata": {},
   "source": [
    "Using the regularization **doesnot increase the validation accuracy or decrease the loss**, if we zoom in the figure, the validation loss is **even increase** after regularization.\\\n",
    "**Dropout could be a more efficient** method to lower the validation loss and increase the validation accuracy than regularization from the figure above based on this model."
   ]
  },
  {
   "cell_type": "markdown",
   "metadata": {},
   "source": [
    "## Summary for this assignment:"
   ]
  },
  {
   "cell_type": "markdown",
   "metadata": {},
   "source": [
    "This assignment helps us to learn the deep learning practical programming. I played with the several different model which changing the parameters in the model.\\\n",
    "We can change **the number of hidden layers**, **each layers number of units**, **type of loss function**, **type of activation function** and add **regularization & dropout**(not make the model **too complex** which could **cause the overfit** happens) strategies to adjust the model.\\\n",
    "All the **hyperparameters** changing in this practice has one goal: make the **model has better performance on the unseen test data set**."
   ]
  }
 ],
 "metadata": {
  "colab": {
   "authorship_tag": "ABX9TyMKlzgfKzlc+xP+zK9cgFGp",
   "provenance": []
  },
  "kernelspec": {
   "display_name": "Python 3 (ipykernel)",
   "language": "python",
   "name": "python3"
  },
  "language_info": {
   "codemirror_mode": {
    "name": "ipython",
    "version": 3
   },
   "file_extension": ".py",
   "mimetype": "text/x-python",
   "name": "python",
   "nbconvert_exporter": "python",
   "pygments_lexer": "ipython3",
   "version": "3.9.12"
  }
 },
 "nbformat": 4,
 "nbformat_minor": 4
}
